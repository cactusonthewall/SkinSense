import os
import numpy as np
import pandas as pd
import matplotlib.pyplot as plt
import tensorflow as tf
from PIL import Image
from sklearn.model_selection import train_test_split
from tensorflow.keras.preprocessing.image import ImageDataGenerator
from tensorflow.keras.models import Sequential
from tensorflow.keras.layers import Conv2D, MaxPooling2D, Flatten, Dense, Dropout

BASE_DIR = "/kaggle/input/melanoma-vs-non-melanoma/DermMel" 

def load_data(directory):
    data = [] 
    labels = [] 
    classes = os.listdir(directory)
    for label, class_name in enumerate(classes):
        class_dir = os.path.join(directory, class_name)
        if os.path.isdir(class_dir):
            for file_name in os.listdir(class_dir):
                file_path = os.path.join(class_dir, file_name)
                if file_path.endswith((".jpg", ".png", ".jpeg")):
                    try:
                        image = Image.open(file_path)
                        data.append(np.array(image)) 
                        labels.append(label)
                    except Exception as e:
                        print(f"Error reading {file_path}: {e}")
    return np.array(data, dtype=object), np.array(labels)

train_data, train_labels = load_data(os.path.join(BASE_DIR, "train_sep"))
valid_data, valid_labels = load_data(os.path.join(BASE_DIR, "valid"))
test_data, test_labels = load_data(os.path.join(BASE_DIR, "test"))

plt.imshow(train_data[0])
plt.title(f"Label: {train_labels[0]}")
plt.axis("off") 
plt.show()

train_datagen = ImageDataGenerator(
    rescale=1./255,              
    rotation_range=30,          
    width_shift_range=0.3,  
    height_shift_range=0.3,     
    shear_range=0.1,            
    zoom_range=0.3, 
    horizontal_flip=True,
    fill_mode='nearest'
)

valid_datagen = ImageDataGenerator(rescale=1./255)
test_datagen = ImageDataGenerator(rescale=1./255)

TRAIN_DIR = '/kaggle/input/melanoma-vs-non-melanoma/DermMel/train_sep'
VALID_DIR = '/kaggle/input/melanoma-vs-non-melanoma/DermMel/valid'
TEST_DIR = '/kaggle/input/melanoma-vs-non-melanoma/DermMel/test'

train_generator = train_datagen.flow_from_directory(
    TRAIN_DIR,                  
    target_size=(224, 224),    
    batch_size=16,             
    class_mode='sparse')

valid_generator = valid_datagen.flow_from_directory(
    VALID_DIR,                 
    target_size=(224, 224),   
    batch_size=16,             
    class_mode='sparse')   

test_generator = test_datagen.flow_from_directory(
    TEST_DIR,                  
    target_size=(224, 224),   
    batch_size=16,
    class_mode='sparse'
)

model = Sequential([
    Conv2D(32, (3, 3), activation='relu', input_shape=(224, 224, 3)),
    MaxPooling2D(pool_size=(2, 2)),
    Conv2D(64, (3, 3), activation='relu'),
    MaxPooling2D(pool_size=(2, 2)),
    Conv2D(128, (3, 3), activation='relu'),
    MaxPooling2D(pool_size=(2, 2)),
    Flatten(),
    Dense(512, activation='relu'),
    Dropout(0.5),
    Dense(2, activation='softmax')
])

model.compile(optimizer='adam', loss='sparse_categorical_crossentropy', metrics=['accuracy'])
model.summary()
history = model.fit(
    train_generator,
    steps_per_epoch=train_generator.samples // 16,
    epochs=10,                                  
    validation_data=valid_generator,
    validation_steps=valid_generator.samples // 16 
)
